{
 "cells": [
  {
   "cell_type": "code",
   "execution_count": 7,
   "metadata": {},
   "outputs": [],
   "source": [
    "import numpy as np"
   ]
  },
  {
   "cell_type": "code",
   "execution_count": 7,
   "metadata": {},
   "outputs": [
    {
     "name": "stdout",
     "output_type": "stream",
     "text": [
      "값 :  [1 2 3]  차원 :  1\n"
     ]
    }
   ],
   "source": [
    "# 1 차원\n",
    "a = np.array([1,2,3])\n",
    "print(\"값 : \",a,\" 차원 : \",a.ndim)"
   ]
  },
  {
   "cell_type": "code",
   "execution_count": 8,
   "metadata": {},
   "outputs": [
    {
     "name": "stdout",
     "output_type": "stream",
     "text": [
      "값 :  [[1 2 3]\n",
      " [4 5 6]]  차원 :  2\n"
     ]
    }
   ],
   "source": [
    "# 2차원\n",
    "a = np.array([[1,2,3],[4,5,6]])\n",
    "print(\"값 : \",a,\" 차원 : \",a.ndim)"
   ]
  },
  {
   "cell_type": "code",
   "execution_count": 9,
   "metadata": {},
   "outputs": [
    {
     "name": "stdout",
     "output_type": "stream",
     "text": [
      "값 :  [[[1 2 3]\n",
      "  [4 5 6]]\n",
      "\n",
      " [[1 2 3]\n",
      "  [4 5 6]]]  차원 :  3\n"
     ]
    }
   ],
   "source": [
    "a = np.array([[[1,2,3],[4,5,6]],[[1,2,3],[4,5,6]]])\n",
    "print(\"값 : \",a,\" 차원 : \",a.ndim)"
   ]
  },
  {
   "cell_type": "code",
   "execution_count": 10,
   "metadata": {},
   "outputs": [
    {
     "name": "stdout",
     "output_type": "stream",
     "text": [
      "shape :  (3,)\n",
      "ndim :  1\n",
      "dtype :  int32\n",
      "dtype.name :  int32\n",
      "size :  3\n"
     ]
    }
   ],
   "source": [
    "arr = np.array([5,3,2])\n",
    "print('shape : ', arr.shape)\n",
    "print('ndim : ', arr.ndim)\n",
    "print('dtype : ', arr.dtype)\n",
    "print('dtype.name : ', arr.dtype.name)\n",
    "print('size : ', arr.size)"
   ]
  },
  {
   "cell_type": "code",
   "execution_count": 11,
   "metadata": {},
   "outputs": [
    {
     "name": "stdout",
     "output_type": "stream",
     "text": [
      "[1 2 3 4 5] <class 'numpy.ndarray'>\n"
     ]
    }
   ],
   "source": [
    "a1 = np.array([1,2,3,4,5])\n",
    "print(a1, type(a1))"
   ]
  },
  {
   "cell_type": "code",
   "execution_count": 12,
   "metadata": {},
   "outputs": [
    {
     "name": "stdout",
     "output_type": "stream",
     "text": [
      "[[3.18299369e-313 4.45619116e-313]\n",
      " [1.08221785e-312 1.20953760e-312]] <class 'numpy.ndarray'>\n"
     ]
    }
   ],
   "source": [
    "a2 = np.ndarray((2,2))\n",
    "print(a2,type(a2))"
   ]
  },
  {
   "cell_type": "code",
   "execution_count": 13,
   "metadata": {},
   "outputs": [
    {
     "name": "stdout",
     "output_type": "stream",
     "text": [
      "[1. 1. 1.] <class 'numpy.ndarray'>\n",
      "[[1. 1. 1. 1.]\n",
      " [1. 1. 1. 1.]\n",
      " [1. 1. 1. 1.]] <class 'numpy.ndarray'>\n"
     ]
    }
   ],
   "source": [
    "a3 = np.ones(3)\n",
    "print(a3,type(a3))\n",
    "a31 =  np.ones((3,4))\n",
    "print(a31,type(a31))"
   ]
  },
  {
   "cell_type": "code",
   "execution_count": 14,
   "metadata": {},
   "outputs": [
    {
     "name": "stdout",
     "output_type": "stream",
     "text": [
      "[0. 0. 0.] <class 'numpy.ndarray'>\n",
      "[[0. 0. 0.]\n",
      " [0. 0. 0.]\n",
      " [0. 0. 0.]] <class 'numpy.ndarray'>\n"
     ]
    }
   ],
   "source": [
    "a4 = np.zeros(3)\n",
    "print(a4,type(a4))\n",
    "a41 = np.zeros((3,3))\n",
    "print(a41, type(a41))"
   ]
  },
  {
   "cell_type": "code",
   "execution_count": 15,
   "metadata": {},
   "outputs": [
    {
     "name": "stdout",
     "output_type": "stream",
     "text": [
      "[0. 0. 0.] <class 'numpy.ndarray'>\n",
      "[[0. 0. 0.]\n",
      " [0. 0. 0.]\n",
      " [0. 0. 0.]] <class 'numpy.ndarray'>\n"
     ]
    }
   ],
   "source": [
    "a5 = np.empty(3)\n",
    "print(a5,type(a5))\n",
    "a51 = np.empty((3,3))\n",
    "print(a51,type(a51))"
   ]
  },
  {
   "cell_type": "code",
   "execution_count": 48,
   "metadata": {},
   "outputs": [
    {
     "name": "stdout",
     "output_type": "stream",
     "text": [
      "[[1. 0. 0.]\n",
      " [0. 1. 0.]\n",
      " [0. 0. 1.]] <class 'numpy.ndarray'>\n",
      "[[0. 0. 0.]\n",
      " [1. 0. 0.]\n",
      " [0. 1. 0.]] <class 'numpy.ndarray'>\n"
     ]
    }
   ],
   "source": [
    "a6  = np.eye(3)\n",
    "print(a6, type(a6))\n",
    "a61 = np.eye(3, k= -1)\n",
    "print(a61, type(a61))"
   ]
  },
  {
   "cell_type": "code",
   "execution_count": 47,
   "metadata": {},
   "outputs": [
    {
     "name": "stdout",
     "output_type": "stream",
     "text": [
      "[[1. 0. 0. 0. 0.]\n",
      " [0. 1. 0. 0. 0.]\n",
      " [0. 0. 1. 0. 0.]\n",
      " [0. 0. 0. 1. 0.]\n",
      " [0. 0. 0. 0. 1.]] <class 'numpy.ndarray'>\n"
     ]
    }
   ],
   "source": [
    "a7 = np.identity(5)\n",
    "print(a7, type(a7))"
   ]
  },
  {
   "cell_type": "code",
   "execution_count": 18,
   "metadata": {},
   "outputs": [
    {
     "name": "stdout",
     "output_type": "stream",
     "text": [
      "[1.         1.44444444 1.88888889 2.33333333 2.77777778 3.22222222\n",
      " 3.66666667 4.11111111 4.55555556 5.        ] <class 'numpy.ndarray'>\n"
     ]
    }
   ],
   "source": [
    "a8 = np.linspace(1,5,10)\n",
    "print(a8,type(a8))"
   ]
  },
  {
   "cell_type": "code",
   "execution_count": 51,
   "metadata": {},
   "outputs": [
    {
     "name": "stdout",
     "output_type": "stream",
     "text": [
      "[1 2 3 4 5 6]\n",
      "<class 'list'> <class 'numpy.ndarray'>\n"
     ]
    }
   ],
   "source": [
    "sample_list = [1,2,3,4,5,6]\n",
    "trans_nd = np.asarray(sample_list)\n",
    "print(trans_nd)\n",
    "print(type(sample_list), type(trans_nd))"
   ]
  },
  {
   "cell_type": "code",
   "execution_count": 20,
   "metadata": {},
   "outputs": [
    {
     "name": "stdout",
     "output_type": "stream",
     "text": [
      "loop_ex :  [1 2 3]\n",
      "loop_ex1 :  [ 5  9 13]\n"
     ]
    }
   ],
   "source": [
    "loop_ex = np.array([1,2,3])\n",
    "loop_ex1 = loop_ex * 4 +1\n",
    "print('loop_ex : ', loop_ex)\n",
    "print('loop_ex1 : ', loop_ex1)"
   ]
  },
  {
   "cell_type": "code",
   "execution_count": 21,
   "metadata": {},
   "outputs": [
    {
     "name": "stdout",
     "output_type": "stream",
     "text": [
      "loop_ex :  [[1 2 3]\n",
      " [4 5 6]]\n",
      "loop_ex1 :  [[ 5  9 13]\n",
      " [17 21 25]]\n"
     ]
    }
   ],
   "source": [
    "loop_ex = np.array([[1,2,3],[4,5,6]])\n",
    "loop_ex1 = loop_ex * 4 +1\n",
    "print('loop_ex : ', loop_ex)\n",
    "print('loop_ex1 : ', loop_ex1)"
   ]
  },
  {
   "cell_type": "code",
   "execution_count": 22,
   "metadata": {},
   "outputs": [
    {
     "name": "stdout",
     "output_type": "stream",
     "text": [
      "[[1 2 3]\n",
      " [4 5 6]\n",
      " [7 8 9]]\n",
      "1 row get : [4 5 6]\n",
      "1 column get :  [2 5 8]\n",
      "(1,2) row + column get : 6\n"
     ]
    }
   ],
   "source": [
    "nd1 = np.array([[1,2,3],[4,5,6],[7,8,9]])\n",
    "print(nd1)\n",
    "print('1 row get :', nd1[1])\n",
    "print('1 column get : ', nd1[:,1])\n",
    "print('(1,2) row + column get :', nd1[1,2])"
   ]
  },
  {
   "cell_type": "code",
   "execution_count": 23,
   "metadata": {},
   "outputs": [
    {
     "name": "stdout",
     "output_type": "stream",
     "text": [
      "[[1 2 3]\n",
      " [4 5 6]\n",
      " [7 8 9]]\n",
      "1 row get : [4 5 6]\n",
      "1 column get :  [2 5 8]\n",
      "[1:,2:] get : [[4 5]\n",
      " [7 8]]\n",
      "(1,2) row + column get : 6\n"
     ]
    }
   ],
   "source": [
    "nd1 = np.array([[1,2,3],[4,5,6],[7,8,9]])\n",
    "print(nd1)\n",
    "print('1 row get :', nd1[1])\n",
    "print('1 column get : ', nd1[:,1])\n",
    "print('[1:,2:] get :', nd1[1:,:2])\n",
    "print('(1,2) row + column get :', nd1[1,2])"
   ]
  },
  {
   "cell_type": "code",
   "execution_count": 24,
   "metadata": {},
   "outputs": [
    {
     "name": "stdout",
     "output_type": "stream",
     "text": [
      "[18 86 51 52 72 19 50 53 65 23]\n",
      "[52 72]\n",
      "[18 86 51 11 11 19 50 53 65 23]\n"
     ]
    }
   ],
   "source": [
    "nd2 = np.random.randint(1,99,10)\n",
    "print(nd2)\n",
    "print(nd2[3:5])\n",
    "nd2[3:5] = 11\n",
    "print(nd2)"
   ]
  },
  {
   "cell_type": "code",
   "execution_count": 25,
   "metadata": {},
   "outputs": [
    {
     "name": "stdout",
     "output_type": "stream",
     "text": [
      "[[1 2 3]\n",
      " [4 5 6]\n",
      " [7 8 9]]\n",
      "[1:,2:] get : [[4 5]\n",
      " [7 8]]\n",
      "[[1 2 3]\n",
      " [0 0 6]\n",
      " [0 0 9]]\n"
     ]
    }
   ],
   "source": [
    "nd1 = np.array([[1,2,3],[4,5,6],[7,8,9]])\n",
    "print(nd1)\n",
    "print('[1:,2:] get :', nd1[1:,:2])\n",
    "nd1[1:,:2] = 0\n",
    "print(nd1)"
   ]
  },
  {
   "cell_type": "code",
   "execution_count": 26,
   "metadata": {},
   "outputs": [
    {
     "name": "stdout",
     "output_type": "stream",
     "text": [
      "[38 51 55 70 36 49 72 86 70 16]\n",
      "[False  True  True  True False False  True  True  True False]\n",
      "[51 55 70 72 86 70]\n",
      "[51 55 70 72 86 70]\n",
      "[38  0  0  0 36 49  0  0  0 16]\n"
     ]
    }
   ],
   "source": [
    "nd3 = np.random.randint(1,99,10)\n",
    "print(nd3)\n",
    "nd31 = nd3 > 50\n",
    "print(nd31)\n",
    "print(nd3[nd31])\n",
    "print(nd3[nd3 > 50])\n",
    "nd3[nd3 >50] = 0\n",
    "print(nd3)"
   ]
  },
  {
   "cell_type": "code",
   "execution_count": 27,
   "metadata": {},
   "outputs": [
    {
     "name": "stdout",
     "output_type": "stream",
     "text": [
      "[[1 2]\n",
      " [3 4]] <class 'numpy.ndarray'>\n",
      "[[5 6]\n",
      " [7 8]] <class 'numpy.ndarray'>\n",
      "[[ 6  8]\n",
      " [10 12]]\n",
      "[[-4 -4]\n",
      " [-4 -4]]\n",
      "[[ 5 12]\n",
      " [21 32]]\n",
      "[[0.2        0.33333333]\n",
      " [0.42857143 0.5       ]]\n"
     ]
    }
   ],
   "source": [
    "nd4 = np.array([[1,2],[3,4]])\n",
    "nd5 = np.array([[5,6],[7,8]])\n",
    "print(nd4,type(nd4))\n",
    "print(nd5,type(nd5))\n",
    "print(nd4+nd5)\n",
    "print(nd4-nd5)\n",
    "print(nd4*nd5)\n",
    "print(nd4/nd5)"
   ]
  },
  {
   "cell_type": "code",
   "execution_count": 28,
   "metadata": {},
   "outputs": [
    {
     "name": "stdout",
     "output_type": "stream",
     "text": [
      "[[1 2]\n",
      " [3 4]] <class 'numpy.matrix'>\n",
      "[[5 6]\n",
      " [7 8]] <class 'numpy.matrix'>\n",
      "[[ 6  8]\n",
      " [10 12]]\n",
      "[[-4 -4]\n",
      " [-4 -4]]\n",
      "[[19 22]\n",
      " [43 50]]\n",
      "[[0.2        0.33333333]\n",
      " [0.42857143 0.5       ]]\n"
     ]
    }
   ],
   "source": [
    "nd4 = np.matrix([[1,2],[3,4]])\n",
    "nd5 = np.matrix([[5,6],[7,8]])\n",
    "print(nd4,type(nd4))\n",
    "print(nd5,type(nd5))\n",
    "print(nd4+nd5)\n",
    "print(nd4-nd5)\n",
    "print(nd4*nd5)\n",
    "print(nd4/nd5)"
   ]
  },
  {
   "cell_type": "code",
   "execution_count": 29,
   "metadata": {},
   "outputs": [
    {
     "name": "stdout",
     "output_type": "stream",
     "text": [
      "[[1 2]\n",
      " [3 4]]\n",
      "[[5 6]\n",
      " [7 8]]\n",
      "[[19 22]\n",
      " [43 50]]\n"
     ]
    }
   ],
   "source": [
    "nd4 = np.array([[1,2],[3,4]])\n",
    "nd5 = np.array([[5,6],[7,8]])\n",
    "print(nd4)\n",
    "print(nd5)\n",
    "print(nd4.dot(nd5))"
   ]
  },
  {
   "cell_type": "code",
   "execution_count": 30,
   "metadata": {},
   "outputs": [
    {
     "name": "stdout",
     "output_type": "stream",
     "text": [
      "[[1 2]\n",
      " [3 4]]\n",
      "[[5 6]\n",
      " [7 8]]\n",
      "[[19 22]\n",
      " [43 50]]\n",
      "[[19 22]\n",
      " [43 50]]\n"
     ]
    }
   ],
   "source": [
    "nd4 = np.matrix([[1,2],[3,4]])\n",
    "nd5 = np.matrix([[5,6],[7,8]])\n",
    "print(nd4)\n",
    "print(nd5)\n",
    "print(nd4.dot(nd5))\n",
    "print(nd4*nd5)"
   ]
  },
  {
   "cell_type": "code",
   "execution_count": 31,
   "metadata": {},
   "outputs": [
    {
     "name": "stdout",
     "output_type": "stream",
     "text": [
      "[[1 2]\n",
      " [3 4]]\n",
      "sum : 10\n",
      "axis 0 sum : [[4 6]]\n",
      "axis 0 sum : [[3]\n",
      " [7]]\n"
     ]
    }
   ],
   "source": [
    "nd4 = np.matrix([[1,2],[3,4]])\n",
    "print(nd4)\n",
    "print('sum :',np.sum(nd4))\n",
    "print('axis 0 sum :',np.sum(nd4,axis=0))\n",
    "print('axis 0 sum :',np.sum(nd4,axis=1))"
   ]
  },
  {
   "cell_type": "code",
   "execution_count": 32,
   "metadata": {},
   "outputs": [
    {
     "name": "stdout",
     "output_type": "stream",
     "text": [
      "[[[ 0  1  2  3]\n",
      "  [ 4  5  6  7]\n",
      "  [ 8  9 10 11]]\n",
      "\n",
      " [[12 13 14 15]\n",
      "  [16 17 18 19]\n",
      "  [20 21 22 23]]]\n",
      "[[12 14 16 18]\n",
      " [20 22 24 26]\n",
      " [28 30 32 34]]\n",
      "[[12 15 18 21]\n",
      " [48 51 54 57]]\n",
      "[[ 6 22 38]\n",
      " [54 70 86]]\n"
     ]
    }
   ],
   "source": [
    "nd6 = np.arange(0,24).reshape([2,3,4])\n",
    "print(nd6)\n",
    "print(nd6.sum(axis=0))\n",
    "print(nd6.sum(axis=1))\n",
    "print(nd6.sum(axis=2))"
   ]
  },
  {
   "cell_type": "code",
   "execution_count": 33,
   "metadata": {},
   "outputs": [
    {
     "name": "stdout",
     "output_type": "stream",
     "text": [
      "[[ 0  1  2  3  4  5]\n",
      " [ 6  7  8  9 10 11]\n",
      " [12 13 14 15 16 17]\n",
      " [18 19 20 21 22 23]]\n"
     ]
    }
   ],
   "source": [
    "nd6_1 = nd6.reshape([4,6])\n",
    "print(nd6_1)"
   ]
  },
  {
   "cell_type": "code",
   "execution_count": 34,
   "metadata": {},
   "outputs": [
    {
     "name": "stdout",
     "output_type": "stream",
     "text": [
      "[1 2 3] (3,)\n",
      "[4 5 6] (3,)\n",
      "32\n",
      "32\n"
     ]
    }
   ],
   "source": [
    "nd7 = np.array([1,2,3])\n",
    "nd8 = np.array([4,5,6])\n",
    "print(nd7, nd7.shape)\n",
    "print(nd8, nd8.shape)\n",
    "print(np.inner(nd7,nd8))\n",
    "print(np.dot(nd7,nd8.T))"
   ]
  },
  {
   "cell_type": "code",
   "execution_count": 35,
   "metadata": {},
   "outputs": [
    {
     "name": "stdout",
     "output_type": "stream",
     "text": [
      "[[1 2 3]\n",
      " [4 5 6]] (2, 3)\n",
      "[[4 3 2]\n",
      " [1 5 6]\n",
      " [4 3 2]\n",
      " [1 5 6]] (4, 3)\n",
      "[[16 29 16 29]\n",
      " [43 65 43 65]]\n",
      "[[16 29 16 29]\n",
      " [43 65 43 65]]\n"
     ]
    }
   ],
   "source": [
    "nd7 = np.array([[1,2,3],[4,5,6]])\n",
    "nd8 = np.array([[4,3,2],[1,5,6],[4,3,2],[1,5,6]])\n",
    "print(nd7, nd7.shape)\n",
    "print(nd8, nd8.shape)\n",
    "print(np.inner(nd7,nd8))\n",
    "print(np.dot(nd7,nd8.T))"
   ]
  },
  {
   "cell_type": "code",
   "execution_count": 36,
   "metadata": {},
   "outputs": [
    {
     "name": "stdout",
     "output_type": "stream",
     "text": [
      "[1 2 3] (3,)\n",
      "[4 5 6] (3,)\n",
      "outer :  [[ 4  5  6]\n",
      " [ 8 10 12]\n",
      " [12 15 18]]\n",
      "cross :  [-3  6 -3]\n"
     ]
    }
   ],
   "source": [
    "nd7 = np.array([1,2,3])\n",
    "nd8 = np.array([4,5,6])\n",
    "print(nd7, nd7.shape)\n",
    "print(nd8, nd8.shape)\n",
    "print('outer : ', np.outer(nd7,nd8))\n",
    "print('cross : ', np.cross(nd7,nd8))"
   ]
  },
  {
   "cell_type": "code",
   "execution_count": 37,
   "metadata": {},
   "outputs": [
    {
     "name": "stdout",
     "output_type": "stream",
     "text": [
      "[[4 3 2]\n",
      " [1 5 6]] (2, 3)\n",
      "outer :  [[ 4  3  2  1  5  6]\n",
      " [ 8  6  4  2 10 12]\n",
      " [12  9  6  3 15 18]\n",
      " [16 12  8  4 20 24]\n",
      " [20 15 10  5 25 30]\n",
      " [24 18 12  6 30 36]]\n",
      "cross :  [[ -5  10  -5]\n",
      " [  0 -18  15]]\n"
     ]
    }
   ],
   "source": [
    "nd7 = np.array([[1,2,3],[4,5,6]])\n",
    "nd8 = np.array([[4,3,2],[1,5,6]])\n",
    "print(nd8, nd8.shape)\n",
    "print('outer : ', np.outer(nd7,nd8))\n",
    "print('cross : ', np.cross(nd7,nd8))"
   ]
  },
  {
   "cell_type": "code",
   "execution_count": 39,
   "metadata": {},
   "outputs": [
    {
     "name": "stdout",
     "output_type": "stream",
     "text": [
      "[-6  7  1 -5  4]\n",
      "[6 7 1 5 4]\n",
      "[-1  1  1 -1  1]\n",
      "[-6  7  1 -5  4]\n"
     ]
    }
   ],
   "source": [
    "nd9 = np.random.randint(-10,10,5)\n",
    "print(nd9)\n",
    "print(np.abs(nd9))\n",
    "si = np.sign(nd9)\n",
    "print(si)\n",
    "print(np.abs(nd9) * si)"
   ]
  },
  {
   "cell_type": "code",
   "execution_count": 40,
   "metadata": {},
   "outputs": [
    {
     "name": "stdout",
     "output_type": "stream",
     "text": [
      "[6 8 2 2 1]\n",
      "[36 64  4  4  1]\n",
      "[2.44948974 2.82842712 1.41421356 1.41421356 1.        ]\n",
      "[36 64  4  4  1]\n",
      "[36.49657518 64.49806199  4.47213595  4.47213595  1.41421356]\n"
     ]
    }
   ],
   "source": [
    "f1 = np.random.randint(1,10,5)\n",
    "print(f1)\n",
    "print(np.square(f1))\n",
    "print(np.sqrt(f1))\n",
    "print(np.power(f1,2))\n",
    "print(np.hypot(f1,np.square(f1)))"
   ]
  },
  {
   "cell_type": "code",
   "execution_count": 75,
   "metadata": {},
   "outputs": [
    {
     "name": "stdout",
     "output_type": "stream",
     "text": [
      "[-17.13994247  10.96892164  -5.95080254   8.5150734   -7.53020043]\n",
      "[-17.  11.  -5.   9.  -7.]\n",
      "[-18.  10.  -6.   8.  -8.]\n",
      "[-17.  11.  -6.   9.  -8.]\n"
     ]
    }
   ],
   "source": [
    "f2 = np.random.randn(5)\n",
    "f2 = f2*10\n",
    "print(f2)\n",
    "print(np.ceil(f2))\n",
    "print(np.floor(f2))\n",
    "print(np.rint(f2))\n"
   ]
  },
  {
   "cell_type": "code",
   "execution_count": 78,
   "metadata": {},
   "outputs": [
    {
     "name": "stdout",
     "output_type": "stream",
     "text": [
      "[83 49 40 33 83]\n",
      "[9 8 7 6 7]\n",
      "add :  [92 57 47 39 90]\n",
      "subtract :  [74 41 33 27 76]\n",
      "multiply :  [747 392 280 198 581]\n",
      "divide :  [ 9.22222222  6.125       5.71428571  5.5        11.85714286]\n",
      "mod :  [2 1 5 3 6]\n"
     ]
    }
   ],
   "source": [
    "f3 = np.random.randint(1,100,5)\n",
    "f4 = np.random.randint(1,10,5)\n",
    "print(f3)\n",
    "print(f4)\n",
    "print('add : ',np.add(f3,f4))\n",
    "print('subtract : ',np.subtract(f3,f4))\n",
    "print('multiply : ',np.multiply(f3,f4))\n",
    "print('divide : ',np.divide(f3,f4))\n",
    "print('mod : ',np.mod(f3,f4))"
   ]
  },
  {
   "cell_type": "code",
   "execution_count": 82,
   "metadata": {},
   "outputs": [
    {
     "name": "stdout",
     "output_type": "stream",
     "text": [
      "[3 0 4 1 3]\n",
      "True\n",
      "False\n"
     ]
    }
   ],
   "source": [
    "f5 = np.random.randint(0,5,5)\n",
    "print(f5)\n",
    "print(np.any(f5))\n",
    "print(np.all(f5))"
   ]
  },
  {
   "cell_type": "code",
   "execution_count": 83,
   "metadata": {},
   "outputs": [
    {
     "name": "stdout",
     "output_type": "stream",
     "text": [
      "[0 3 2 4 0]\n",
      "[0 0 0 1 1]\n",
      "[ True False False False False]\n",
      "True\n",
      "False\n"
     ]
    }
   ],
   "source": [
    "f5 = np.random.randint(0,5,5)\n",
    "f6 = np.random.randint(0,5,5)\n",
    "print(f5)\n",
    "print(f6)\n",
    "f7 = np.equal(f5,f6)\n",
    "print(f7)\n",
    "print(np.any(f7))\n",
    "print(np.all(f7))"
   ]
  },
  {
   "cell_type": "code",
   "execution_count": 41,
   "metadata": {},
   "outputs": [
    {
     "name": "stdout",
     "output_type": "stream",
     "text": [
      "[ 0  3  0 -8 -1  1 -2 -8 -5 -6]\n",
      "[ 0  1  0 -1 -1  1 -1 -1 -1 -1]\n",
      "[ 0  1  0 -1 -1  1 -1 -1 -1 -1]\n"
     ]
    }
   ],
   "source": [
    "f8 = np.random.randint(-10,10,10)\n",
    "print(f8)\n",
    "print(np.where(f8 == 0, 0, np.where(f8>0,1,-1)))\n",
    "print(np.sign(f8))"
   ]
  },
  {
   "cell_type": "code",
   "execution_count": 93,
   "metadata": {},
   "outputs": [
    {
     "name": "stdout",
     "output_type": "stream",
     "text": [
      "[[0. 1. 2.]\n",
      " [3. 4. 5.]\n",
      " [6. 7. 8.]]\n",
      "(array([2, 2, 2], dtype=int64), array([0, 1, 2], dtype=int64))\n",
      "[4. 5. 6. 7. 8.]\n",
      "[[ 0.  1.  2.]\n",
      " [ 3.  4. -1.]\n",
      " [-1. -1. -1.]]\n"
     ]
    }
   ],
   "source": [
    "f9 = np.arange(9.).reshape(3,3)\n",
    "print(f9)\n",
    "print(np.where(f9 > 5))\n",
    "print(f9[np.where(f9 > 3.0)])\n",
    "print(np.where(f9 <5, f9, -1))"
   ]
  },
  {
   "cell_type": "code",
   "execution_count": 101,
   "metadata": {},
   "outputs": [
    {
     "name": "stdout",
     "output_type": "stream",
     "text": [
      "[7 4 4 3 2]\n",
      "[2 3 4 7]\n",
      "[4 4 2]\n",
      "in1d : [ True  True  True]\n",
      "union1d : [2 3 4 7]\n",
      "intersect1d : [2 4]\n",
      "setdiff1d : []\n",
      "setxor1d : [3 7]\n"
     ]
    }
   ],
   "source": [
    "f10 = np.random.randint(1,10,5)\n",
    "f11 = np.random.randint(1,5,3)\n",
    "print(f10)\n",
    "f10u = np.unique(f10)\n",
    "print(f10u)\n",
    "print(f11)\n",
    "print('in1d :', np.in1d(f11,f10u))\n",
    "print('union1d :',np.union1d(f11,f10u))\n",
    "print('intersect1d :',np.intersect1d(f11,f10u))\n",
    "print('setdiff1d :',np.setdiff1d(f11,f10u))\n",
    "print('setxor1d :',np.setxor1d(f11,f10u))"
   ]
  },
  {
   "cell_type": "code",
   "execution_count": 46,
   "metadata": {},
   "outputs": [
    {
     "name": "stdout",
     "output_type": "stream",
     "text": [
      "[1 2 3 4]\n",
      "[5 6 7 8]\n",
      "[ 9 10]\n",
      "[array([1, 2, 3, 4]) array([5, 6, 7, 8]) array([ 9, 10])]\n",
      "[ 1  2  3  4  5  6  7  8  9 10]\n",
      "[ 1  2  3  4  5  6  7  8  9 10]\n"
     ]
    }
   ],
   "source": [
    "c2 = np.arange(1,5)\n",
    "c3 = np.arange(5,9)\n",
    "c4 = np.arange(9,11)\n",
    "c5 = np.array((c2,c3,c4))\n",
    "print(c2)\n",
    "print(c3)\n",
    "print(c4)\n",
    "print(c5)\n",
    "print(np.concatenate((c2,c3,c4)))\n",
    "print(np.concatenate(c5))"
   ]
  },
  {
   "cell_type": "code",
   "execution_count": 43,
   "metadata": {},
   "outputs": [
    {
     "name": "stdout",
     "output_type": "stream",
     "text": [
      "[ 1  2  3  4  5  6  7  8  9 10]\n",
      "[ 6  7  8  9 10 11 12 13 14 15]\n",
      "[[ 1  2  3  4  5]\n",
      " [ 6  7  8  9 10]]\n",
      "[[ 6  7  8  9 10]\n",
      " [11 12 13 14 15]]\n",
      "[[ 1  2  3  4  5]\n",
      " [ 6  7  8  9 10]\n",
      " [ 6  7  8  9 10]\n",
      " [11 12 13 14 15]]\n",
      "[[ 1  2  3  4  5  6  7  8  9 10]\n",
      " [ 6  7  8  9 10 11 12 13 14 15]]\n"
     ]
    }
   ],
   "source": [
    "c6 = np.concatenate(c5)\n",
    "c7 = c6 + 5\n",
    "print(c6)\n",
    "print(c7)\n",
    "c6 = c6.reshape(2,5)\n",
    "c7 = c7.reshape(2,5)\n",
    "print(c6)\n",
    "print(c7)\n",
    "print(np.concatenate((c6,c7)))\n",
    "print(np.concatenate((c6,c7),axis=1))"
   ]
  },
  {
   "cell_type": "code",
   "execution_count": 44,
   "metadata": {
    "scrolled": true
   },
   "outputs": [
    {
     "name": "stdout",
     "output_type": "stream",
     "text": [
      "[[4.24399158e-314 8.48798317e-314]\n",
      " [1.27319747e-313 1.69759663e-313]\n",
      " [2.12199579e-313 1.48539705e-313]\n",
      " [1.90979621e-313 2.33419537e-313]\n",
      " [2.75859453e-313 3.18299369e-313]]\n",
      "[[4.24399158e-314 8.48798317e-314]\n",
      " [1.27319747e-313 1.69759663e-313]\n",
      " [2.12199579e-313 1.48539705e-313]\n",
      " [1.90979621e-313 2.33419537e-313]\n",
      " [2.75859453e-313 3.18299369e-313]]\n"
     ]
    }
   ],
   "source": [
    "save_arr = np.ndarray((5,2))\n",
    "print(save_arr)\n",
    "np.save('./save_arr',save_arr)\n",
    "load_arr = np.load('./save_arr.npy')\n",
    "print(load_arr)"
   ]
  },
  {
   "cell_type": "code",
   "execution_count": null,
   "metadata": {},
   "outputs": [],
   "source": []
  },
  {
   "cell_type": "code",
   "execution_count": null,
   "metadata": {},
   "outputs": [],
   "source": []
  }
 ],
 "metadata": {
  "kernelspec": {
   "display_name": "Python 3",
   "language": "python",
   "name": "python3"
  },
  "language_info": {
   "codemirror_mode": {
    "name": "ipython",
    "version": 3
   },
   "file_extension": ".py",
   "mimetype": "text/x-python",
   "name": "python",
   "nbconvert_exporter": "python",
   "pygments_lexer": "ipython3",
   "version": "3.8.3"
  }
 },
 "nbformat": 4,
 "nbformat_minor": 4
}
