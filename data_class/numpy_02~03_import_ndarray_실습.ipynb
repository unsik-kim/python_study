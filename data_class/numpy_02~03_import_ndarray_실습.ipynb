{
 "cells": [
  {
   "cell_type": "markdown",
   "metadata": {
    "colab_type": "text",
    "id": "YF6gKv_yLvyA"
   },
   "source": [
    "## 1. Numpy import 하기"
   ]
  },
  {
   "cell_type": "code",
   "execution_count": 0,
   "metadata": {
    "colab": {},
    "colab_type": "code",
    "id": "0_Kg9xjRLmo-"
   },
   "outputs": [],
   "source": [
    "import numpy"
   ]
  },
  {
   "cell_type": "code",
   "execution_count": 0,
   "metadata": {
    "colab": {},
    "colab_type": "code",
    "id": "GgV21jOYLutz"
   },
   "outputs": [],
   "source": [
    "numpy"
   ]
  },
  {
   "cell_type": "markdown",
   "metadata": {
    "colab_type": "text",
    "id": "pf1gyZgaL0GG"
   },
   "source": [
    "### 1-1. 별칭 (alias) 지정하기 (항상 해주세요!)"
   ]
  },
  {
   "cell_type": "code",
   "execution_count": 0,
   "metadata": {
    "colab": {},
    "colab_type": "code",
    "id": "mufbu6qBL3fq"
   },
   "outputs": [],
   "source": [
    "# 코드를 입력해 주세요\n"
   ]
  },
  {
   "cell_type": "markdown",
   "metadata": {
    "colab_type": "text",
    "id": "e_ttjq8eL4yg"
   },
   "source": [
    "## 2. ndarray 생성하기"
   ]
  },
  {
   "cell_type": "code",
   "execution_count": 0,
   "metadata": {
    "colab": {},
    "colab_type": "code",
    "id": "mwQN0_UzMGPO"
   },
   "outputs": [],
   "source": [
    "arr = # 코드를 입력해 주세요\n"
   ]
  },
  {
   "cell_type": "code",
   "execution_count": 0,
   "metadata": {
    "colab": {},
    "colab_type": "code",
    "id": "qg-d37wfMJ85"
   },
   "outputs": [],
   "source": [
    "arr"
   ]
  },
  {
   "cell_type": "code",
   "execution_count": 0,
   "metadata": {
    "colab": {},
    "colab_type": "code",
    "id": "pK4LQp_feRLr"
   },
   "outputs": [],
   "source": [
    "[1, 2, 3, 4]"
   ]
  },
  {
   "cell_type": "code",
   "execution_count": 0,
   "metadata": {
    "colab": {},
    "colab_type": "code",
    "id": "FpjKmMxJMVF3"
   },
   "outputs": [],
   "source": [
    "type(arr)"
   ]
  },
  {
   "cell_type": "markdown",
   "metadata": {
    "colab_type": "text",
    "id": "n83ZdpYzMWCh"
   },
   "source": [
    "### 2-1. list로 부터 생성하기"
   ]
  },
  {
   "cell_type": "code",
   "execution_count": 0,
   "metadata": {
    "colab": {},
    "colab_type": "code",
    "id": "3FoRNCmxMa96"
   },
   "outputs": [],
   "source": [
    "mylist1 = [1, 2, 3, 4]"
   ]
  },
  {
   "cell_type": "code",
   "execution_count": 0,
   "metadata": {
    "colab": {},
    "colab_type": "code",
    "id": "lk6wwjOEMcqN"
   },
   "outputs": [],
   "source": [
    "mylist2 = [[1, 2, 3, 4], \n",
    "           [5, 6, 7, 8]]"
   ]
  },
  {
   "cell_type": "code",
   "execution_count": 0,
   "metadata": {
    "colab": {},
    "colab_type": "code",
    "id": "9aeUwDAkMhok"
   },
   "outputs": [],
   "source": [
    "arr1 = # 코드를 입력해 주세요\n"
   ]
  },
  {
   "cell_type": "code",
   "execution_count": 0,
   "metadata": {
    "colab": {},
    "colab_type": "code",
    "id": "uj3yIOjtMjjB"
   },
   "outputs": [],
   "source": [
    "arr2 = # 코드를 입력해 주세요\n"
   ]
  },
  {
   "cell_type": "markdown",
   "metadata": {
    "colab_type": "text",
    "id": "yzMxMbQzMtNO"
   },
   "source": [
    "### 2-2. shape확인하기"
   ]
  },
  {
   "cell_type": "code",
   "execution_count": 0,
   "metadata": {
    "colab": {},
    "colab_type": "code",
    "id": "JvsXql8XMzSQ"
   },
   "outputs": [],
   "source": [
    "arr1.# 코드를 입력해 주세요\n"
   ]
  },
  {
   "cell_type": "code",
   "execution_count": 0,
   "metadata": {
    "colab": {},
    "colab_type": "code",
    "id": "0DvV6rmdM0zH"
   },
   "outputs": [],
   "source": [
    "arr2.# 코드를 입력해 주세요\n"
   ]
  },
  {
   "cell_type": "markdown",
   "metadata": {
    "colab_type": "text",
    "id": "gX-z_P_LM9LV"
   },
   "source": [
    "## 3. array에서의 data 타입"
   ]
  },
  {
   "cell_type": "markdown",
   "metadata": {
    "colab_type": "text",
    "id": "MktQdRu7NCt_"
   },
   "source": [
    "array에서는 list와는 다르게 1개의 **단일 데이터 타입**만 허용 됩니다."
   ]
  },
  {
   "cell_type": "markdown",
   "metadata": {
    "colab_type": "text",
    "id": "XTLMkufHNT_M"
   },
   "source": [
    "### 3-1. list에서의 data 타입"
   ]
  },
  {
   "cell_type": "code",
   "execution_count": 0,
   "metadata": {
    "colab": {},
    "colab_type": "code",
    "id": "C0B5BIjtNIhI"
   },
   "outputs": [],
   "source": [
    "mylist = [1, 3.14, '테디', '1234']"
   ]
  },
  {
   "cell_type": "code",
   "execution_count": 0,
   "metadata": {
    "colab": {
     "base_uri": "https://localhost:8080/",
     "height": 34
    },
    "colab_type": "code",
    "id": "KGJ2KOsiNN9e",
    "outputId": "20d0f64e-cf12-43f3-b439-742f0c98fd59"
   },
   "outputs": [
    {
     "data": {
      "text/plain": [
       "[1, 3.14, '테디', '1234']"
      ]
     },
     "execution_count": 17,
     "metadata": {
      "tags": []
     },
     "output_type": "execute_result"
    }
   ],
   "source": [
    "mylist"
   ]
  },
  {
   "cell_type": "code",
   "execution_count": 0,
   "metadata": {
    "colab": {
     "base_uri": "https://localhost:8080/",
     "height": 34
    },
    "colab_type": "code",
    "id": "2DpInJBdNQBx",
    "outputId": "22b2fff4-bc60-4522-d1c6-b51f65583b9e"
   },
   "outputs": [
    {
     "data": {
      "text/plain": [
       "3.14"
      ]
     },
     "execution_count": 18,
     "metadata": {
      "tags": []
     },
     "output_type": "execute_result"
    }
   ],
   "source": [
    "# 코드를 입력해 주세요\n"
   ]
  },
  {
   "cell_type": "code",
   "execution_count": 0,
   "metadata": {
    "colab": {
     "base_uri": "https://localhost:8080/",
     "height": 34
    },
    "colab_type": "code",
    "id": "xjgOr_LnNRgp",
    "outputId": "2f656e44-d0dc-4b51-a425-36817290d828"
   },
   "outputs": [
    {
     "data": {
      "text/plain": [
       "'테디'"
      ]
     },
     "execution_count": 19,
     "metadata": {
      "tags": []
     },
     "output_type": "execute_result"
    }
   ],
   "source": [
    "# 코드를 입력해 주세요\n"
   ]
  },
  {
   "cell_type": "markdown",
   "metadata": {
    "colab_type": "text",
    "id": "GX81OuGvNSWJ"
   },
   "source": [
    "### 3-2. array에서의 data 타입 (case를 통한 연구)"
   ]
  },
  {
   "cell_type": "markdown",
   "metadata": {
    "colab_type": "text",
    "id": "szwCkfiKOscZ"
   },
   "source": [
    "### case 1. int와 float 타입이 혼재된 경우"
   ]
  },
  {
   "cell_type": "code",
   "execution_count": 0,
   "metadata": {
    "colab": {},
    "colab_type": "code",
    "id": "cbixPa34Opbw"
   },
   "outputs": [],
   "source": [
    "arr = np.array([1, 2, 3, 3.14])"
   ]
  },
  {
   "cell_type": "code",
   "execution_count": 0,
   "metadata": {
    "colab": {
     "base_uri": "https://localhost:8080/",
     "height": 34
    },
    "colab_type": "code",
    "id": "ic54uzs8Oq2l",
    "outputId": "b2d7c14f-993a-4a79-d716-58082c71d016"
   },
   "outputs": [
    {
     "data": {
      "text/plain": [
       "array([1.  , 2.  , 3.  , 3.14])"
      ]
     },
     "execution_count": 21,
     "metadata": {
      "tags": []
     },
     "output_type": "execute_result"
    }
   ],
   "source": [
    "arr"
   ]
  },
  {
   "cell_type": "markdown",
   "metadata": {
    "colab_type": "text",
    "id": "NK9OEY8cO1h1"
   },
   "source": [
    "### case 2. int와 float 타입이 혼재되었으나, dtype을 지정한 경우"
   ]
  },
  {
   "cell_type": "code",
   "execution_count": 0,
   "metadata": {
    "colab": {},
    "colab_type": "code",
    "id": "J-CMx0MkOiVB"
   },
   "outputs": [],
   "source": [
    "arr = np.array([1, 2, 3, 3.14], dtype=int)"
   ]
  },
  {
   "cell_type": "code",
   "execution_count": 0,
   "metadata": {
    "colab": {
     "base_uri": "https://localhost:8080/",
     "height": 34
    },
    "colab_type": "code",
    "id": "9CyK3SNOOmuI",
    "outputId": "81f0f213-a1a7-4913-c219-ade6def1715d"
   },
   "outputs": [
    {
     "data": {
      "text/plain": [
       "array([1, 2, 3, 3])"
      ]
     },
     "execution_count": 23,
     "metadata": {
      "tags": []
     },
     "output_type": "execute_result"
    }
   ],
   "source": [
    "arr"
   ]
  },
  {
   "cell_type": "markdown",
   "metadata": {
    "colab_type": "text",
    "id": "RDfxDsUWOoT1"
   },
   "source": [
    "### case 3. int와 str 타입이 혼재된 경우"
   ]
  },
  {
   "cell_type": "code",
   "execution_count": 0,
   "metadata": {
    "colab": {},
    "colab_type": "code",
    "id": "EFxhPu_oNZ9V"
   },
   "outputs": [],
   "source": [
    "arr = np.array([1, 3.14, '테디', '1234'])"
   ]
  },
  {
   "cell_type": "code",
   "execution_count": 0,
   "metadata": {
    "colab": {
     "base_uri": "https://localhost:8080/",
     "height": 34
    },
    "colab_type": "code",
    "id": "bkZjF2alNeXJ",
    "outputId": "8452b0af-bde9-4ff6-acc3-05eaa008a232"
   },
   "outputs": [
    {
     "data": {
      "text/plain": [
       "array(['1', '3.14', '테디', '1234'], dtype='<U32')"
      ]
     },
     "execution_count": 25,
     "metadata": {
      "tags": []
     },
     "output_type": "execute_result"
    }
   ],
   "source": [
    "arr"
   ]
  },
  {
   "cell_type": "code",
   "execution_count": 0,
   "metadata": {
    "colab": {
     "base_uri": "https://localhost:8080/",
     "height": 34
    },
    "colab_type": "code",
    "id": "VcFfCH16Ni4-",
    "outputId": "c24e3cd2-eaf6-47b2-cc71-6fa2829e4298"
   },
   "outputs": [
    {
     "data": {
      "text/plain": [
       "'13.14'"
      ]
     },
     "execution_count": 26,
     "metadata": {
      "tags": []
     },
     "output_type": "execute_result"
    }
   ],
   "source": [
    "arr[0] + arr[1]"
   ]
  },
  {
   "cell_type": "markdown",
   "metadata": {
    "colab_type": "text",
    "id": "ihIB8zQfPCLP"
   },
   "source": [
    "### case 4. int와 str 타입이 혼재되어 있고 int로 dtype을 지정한 경우"
   ]
  },
  {
   "cell_type": "code",
   "execution_count": 0,
   "metadata": {
    "colab": {},
    "colab_type": "code",
    "id": "L2cVoxoEPH7X"
   },
   "outputs": [],
   "source": [
    "arr = np.array([1, 3.14, '1234'], dtype=int)"
   ]
  },
  {
   "cell_type": "code",
   "execution_count": 0,
   "metadata": {
    "colab": {
     "base_uri": "https://localhost:8080/",
     "height": 34
    },
    "colab_type": "code",
    "id": "f7EtNlGuPLTM",
    "outputId": "6012882e-3c34-47b5-b72a-caf2ae243cdc"
   },
   "outputs": [
    {
     "data": {
      "text/plain": [
       "array([   1,    3, 1234])"
      ]
     },
     "execution_count": 29,
     "metadata": {
      "tags": []
     },
     "output_type": "execute_result"
    }
   ],
   "source": [
    "arr"
   ]
  },
  {
   "cell_type": "code",
   "execution_count": 0,
   "metadata": {
    "colab": {},
    "colab_type": "code",
    "id": "iE0BLDCTfZc9"
   },
   "outputs": [],
   "source": []
  }
 ],
 "metadata": {
  "colab": {
   "collapsed_sections": [],
   "name": "ch03-part01-numpy-ndarray-실습",
   "provenance": []
  },
  "kernelspec": {
   "display_name": "Python 3",
   "language": "python",
   "name": "python3"
  },
  "language_info": {
   "codemirror_mode": {
    "name": "ipython",
    "version": 3
   },
   "file_extension": ".py",
   "mimetype": "text/x-python",
   "name": "python",
   "nbconvert_exporter": "python",
   "pygments_lexer": "ipython3",
   "version": "3.8.3"
  }
 },
 "nbformat": 4,
 "nbformat_minor": 1
}
