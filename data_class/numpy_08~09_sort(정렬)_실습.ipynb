{
  "nbformat": 4,
  "nbformat_minor": 0,
  "metadata": {
    "colab": {
      "name": "ch03-part04-sort(정렬)-실습",
      "provenance": [],
      "collapsed_sections": []
    },
    "kernelspec": {
      "name": "python3",
      "display_name": "Python 3"
    }
  },
  "cells": [
    {
      "cell_type": "code",
      "metadata": {
        "id": "MHrD2Y3QJq7l",
        "colab_type": "code",
        "colab": {}
      },
      "source": [
        "import numpy as np"
      ],
      "execution_count": 0,
      "outputs": []
    },
    {
      "cell_type": "markdown",
      "metadata": {
        "id": "VGNy7j4vAWGC",
        "colab_type": "text"
      },
      "source": [
        "## 1. 1차원 정렬"
      ]
    },
    {
      "cell_type": "markdown",
      "metadata": {
        "id": "-9nSxjZEJ4WH",
        "colab_type": "text"
      },
      "source": [
        "1차원 정렬은 매우 간단합니다."
      ]
    },
    {
      "cell_type": "code",
      "metadata": {
        "id": "N8srXe3kJ1CI",
        "colab_type": "code",
        "colab": {}
      },
      "source": [
        "arr = np.array([1, 10, 5, 8, 2, 4, 3, 6, 8, 7, 9])"
      ],
      "execution_count": 0,
      "outputs": []
    },
    {
      "cell_type": "code",
      "metadata": {
        "id": "qjKfuAWwKHuv",
        "colab_type": "code",
        "outputId": "2e330c4c-4383-4908-9301-32f0ea901fdd",
        "colab": {
          "base_uri": "https://localhost:8080/",
          "height": 35
        }
      },
      "source": [
        "arr"
      ],
      "execution_count": 0,
      "outputs": [
        {
          "output_type": "execute_result",
          "data": {
            "text/plain": [
              "array([ 1, 10,  5,  8,  2,  4,  3,  6,  8,  7,  9])"
            ]
          },
          "metadata": {
            "tags": []
          },
          "execution_count": 3
        }
      ]
    },
    {
      "cell_type": "markdown",
      "metadata": {
        "id": "qJgxXiw6KJoo",
        "colab_type": "text"
      },
      "source": [
        "np.sort(arr)"
      ]
    },
    {
      "cell_type": "code",
      "metadata": {
        "id": "7KvWPPaPKLep",
        "colab_type": "code",
        "outputId": "38d32cc1-abd2-40c7-8f1f-48ffd3e03d14",
        "colab": {
          "base_uri": "https://localhost:8080/",
          "height": 35
        }
      },
      "source": [
        "# 코드를 입력해 주세요\n"
      ],
      "execution_count": 0,
      "outputs": [
        {
          "output_type": "execute_result",
          "data": {
            "text/plain": [
              "array([ 1,  2,  3,  4,  5,  6,  7,  8,  8,  9, 10])"
            ]
          },
          "metadata": {
            "tags": []
          },
          "execution_count": 4
        }
      ]
    },
    {
      "cell_type": "markdown",
      "metadata": {
        "id": "pvJTDEsTKORq",
        "colab_type": "text"
      },
      "source": [
        "기본적으로 오름차순 정렬을 수행합니다."
      ]
    },
    {
      "cell_type": "code",
      "metadata": {
        "id": "rAO6KvBXKMMw",
        "colab_type": "code",
        "outputId": "257f8d2a-97ee-4f70-d88f-703778495f6a",
        "colab": {
          "base_uri": "https://localhost:8080/",
          "height": 35
        }
      },
      "source": [
        "# 코드를 입력해 주세요\n"
      ],
      "execution_count": 0,
      "outputs": [
        {
          "output_type": "execute_result",
          "data": {
            "text/plain": [
              "array([10,  9,  8,  8,  7,  6,  5,  4,  3,  2,  1])"
            ]
          },
          "metadata": {
            "tags": []
          },
          "execution_count": 5
        }
      ]
    },
    {
      "cell_type": "markdown",
      "metadata": {
        "id": "OsuNJIbtKNLw",
        "colab_type": "text"
      },
      "source": [
        "내림차순 정렬은 옵션에 -1 값을 주면됩니다."
      ]
    },
    {
      "cell_type": "markdown",
      "metadata": {
        "id": "pua2SnjpKWln",
        "colab_type": "text"
      },
      "source": [
        "하지만, 이 값들은 **유지가 되지 않습니다**!"
      ]
    },
    {
      "cell_type": "markdown",
      "metadata": {
        "id": "mWfIMYU4K24Q",
        "colab_type": "text"
      },
      "source": [
        "값을 sort 된 상태로 저장하려면, 배열 자체에 sort를 해줄 수 있습니다."
      ]
    },
    {
      "cell_type": "code",
      "metadata": {
        "id": "eiDxXfm9qwqs",
        "colab_type": "code",
        "outputId": "ce541ef0-63d5-49eb-a5fd-895f70550d96",
        "colab": {
          "base_uri": "https://localhost:8080/",
          "height": 35
        }
      },
      "source": [
        "np.sort(arr)"
      ],
      "execution_count": 0,
      "outputs": [
        {
          "output_type": "execute_result",
          "data": {
            "text/plain": [
              "array([ 1,  2,  3,  4,  5,  6,  7,  8,  8,  9, 10])"
            ]
          },
          "metadata": {
            "tags": []
          },
          "execution_count": 6
        }
      ]
    },
    {
      "cell_type": "code",
      "metadata": {
        "id": "jMN43SI_qyXN",
        "colab_type": "code",
        "colab": {}
      },
      "source": [
        "arr2 = np.sort(arr)"
      ],
      "execution_count": 0,
      "outputs": []
    },
    {
      "cell_type": "code",
      "metadata": {
        "id": "00DnLZIxq7eA",
        "colab_type": "code",
        "outputId": "eabc211c-2b07-4e4e-bc73-1ce1d7530880",
        "colab": {
          "base_uri": "https://localhost:8080/",
          "height": 35
        }
      },
      "source": [
        "arr"
      ],
      "execution_count": 0,
      "outputs": [
        {
          "output_type": "execute_result",
          "data": {
            "text/plain": [
              "array([ 1, 10,  5,  8,  2,  4,  3,  6,  8,  7,  9])"
            ]
          },
          "metadata": {
            "tags": []
          },
          "execution_count": 8
        }
      ]
    },
    {
      "cell_type": "code",
      "metadata": {
        "id": "YNG3GMwxq5sn",
        "colab_type": "code",
        "outputId": "86ba0b7e-e02f-4855-951e-a42bf600f7e0",
        "colab": {
          "base_uri": "https://localhost:8080/",
          "height": 35
        }
      },
      "source": [
        "arr2"
      ],
      "execution_count": 0,
      "outputs": [
        {
          "output_type": "execute_result",
          "data": {
            "text/plain": [
              "array([ 1,  2,  3,  4,  5,  6,  7,  8,  8,  9, 10])"
            ]
          },
          "metadata": {
            "tags": []
          },
          "execution_count": 9
        }
      ]
    },
    {
      "cell_type": "code",
      "metadata": {
        "id": "9K9cV72ZK-Ko",
        "colab_type": "code",
        "colab": {}
      },
      "source": [
        "arr.sort()"
      ],
      "execution_count": 0,
      "outputs": []
    },
    {
      "cell_type": "code",
      "metadata": {
        "id": "6uMEnTSnK_Mw",
        "colab_type": "code",
        "outputId": "26f37a20-e785-45cd-844b-4bda4dca9a8f",
        "colab": {
          "base_uri": "https://localhost:8080/",
          "height": 35
        }
      },
      "source": [
        "arr"
      ],
      "execution_count": 0,
      "outputs": [
        {
          "output_type": "execute_result",
          "data": {
            "text/plain": [
              "array([ 1,  2,  3,  4,  5,  6,  7,  8,  8,  9, 10])"
            ]
          },
          "metadata": {
            "tags": []
          },
          "execution_count": 11
        }
      ]
    },
    {
      "cell_type": "markdown",
      "metadata": {
        "id": "baXVQJQxLCww",
        "colab_type": "text"
      },
      "source": [
        "## 2. N차원 정렬"
      ]
    },
    {
      "cell_type": "code",
      "metadata": {
        "id": "Z065jsH2LGlg",
        "colab_type": "code",
        "colab": {}
      },
      "source": [
        "arr2d = np.array([[5, 6, 7, 8], \n",
        "                  [4, 3, 2, 1],\n",
        "                  [10, 9, 12, 11]])"
      ],
      "execution_count": 0,
      "outputs": []
    },
    {
      "cell_type": "code",
      "metadata": {
        "id": "U9ch4G44rieM",
        "colab_type": "code",
        "outputId": "5ea6234a-e4e2-4100-cc5b-97d19fd829fb",
        "colab": {
          "base_uri": "https://localhost:8080/",
          "height": 35
        }
      },
      "source": [
        "arr2d.shape"
      ],
      "execution_count": 0,
      "outputs": [
        {
          "output_type": "execute_result",
          "data": {
            "text/plain": [
              "(3, 4)"
            ]
          },
          "metadata": {
            "tags": []
          },
          "execution_count": 13
        }
      ]
    },
    {
      "cell_type": "code",
      "metadata": {
        "id": "-05V5VoCLTCd",
        "colab_type": "code",
        "outputId": "c0f5745f-7d4c-4e77-f24f-75059786fdfb",
        "colab": {
          "base_uri": "https://localhost:8080/",
          "height": 71
        }
      },
      "source": [
        "arr2d"
      ],
      "execution_count": 0,
      "outputs": [
        {
          "output_type": "execute_result",
          "data": {
            "text/plain": [
              "array([[ 5,  6,  7,  8],\n",
              "       [ 4,  3,  2,  1],\n",
              "       [10,  9, 12, 11]])"
            ]
          },
          "metadata": {
            "tags": []
          },
          "execution_count": 14
        }
      ]
    },
    {
      "cell_type": "markdown",
      "metadata": {
        "id": "oHGGgf9cLxxQ",
        "colab_type": "text"
      },
      "source": [
        "### 2-1. 열 정렬 (왼쪽에서 오른쪽으로)"
      ]
    },
    {
      "cell_type": "code",
      "metadata": {
        "id": "qQqbg2nyL8Cw",
        "colab_type": "code",
        "outputId": "b4a97422-e28e-44bc-9520-6e3e3006e587",
        "colab": {
          "base_uri": "https://localhost:8080/",
          "height": 71
        }
      },
      "source": [
        "arr2d"
      ],
      "execution_count": 0,
      "outputs": [
        {
          "output_type": "execute_result",
          "data": {
            "text/plain": [
              "array([[ 5,  6,  7,  8],\n",
              "       [ 4,  3,  2,  1],\n",
              "       [10,  9, 12, 11]])"
            ]
          },
          "metadata": {
            "tags": []
          },
          "execution_count": 15
        }
      ]
    },
    {
      "cell_type": "code",
      "metadata": {
        "id": "tw5Wrw_ZLVkf",
        "colab_type": "code",
        "outputId": "f2b6ecf8-122e-464b-fdf5-7d63548ca62b",
        "colab": {
          "base_uri": "https://localhost:8080/",
          "height": 71
        }
      },
      "source": [
        "# 코드를 입력해 주세요\n"
      ],
      "execution_count": 0,
      "outputs": [
        {
          "output_type": "execute_result",
          "data": {
            "text/plain": [
              "array([[ 5,  6,  7,  8],\n",
              "       [ 1,  2,  3,  4],\n",
              "       [ 9, 10, 11, 12]])"
            ]
          },
          "metadata": {
            "tags": []
          },
          "execution_count": 16
        }
      ]
    },
    {
      "cell_type": "markdown",
      "metadata": {
        "id": "5gKzuuOJLr-P",
        "colab_type": "text"
      },
      "source": [
        "### 2-2. 행 정렬 (위에서 아래로)"
      ]
    },
    {
      "cell_type": "code",
      "metadata": {
        "id": "tuZHbojFL5az",
        "colab_type": "code",
        "outputId": "504c1d3d-97d7-4fb4-be98-03e7518a2ea0",
        "colab": {
          "base_uri": "https://localhost:8080/",
          "height": 71
        }
      },
      "source": [
        "arr2d"
      ],
      "execution_count": 0,
      "outputs": [
        {
          "output_type": "execute_result",
          "data": {
            "text/plain": [
              "array([[ 5,  6,  7,  8],\n",
              "       [ 4,  3,  2,  1],\n",
              "       [10,  9, 12, 11]])"
            ]
          },
          "metadata": {
            "tags": []
          },
          "execution_count": 17
        }
      ]
    },
    {
      "cell_type": "code",
      "metadata": {
        "id": "50fUgOYtLYbg",
        "colab_type": "code",
        "outputId": "b4c1b98b-ac6e-467a-ecbf-974e0a2232a6",
        "colab": {
          "base_uri": "https://localhost:8080/",
          "height": 71
        }
      },
      "source": [
        "# 코드를 입력해 주세요\n"
      ],
      "execution_count": 0,
      "outputs": [
        {
          "output_type": "execute_result",
          "data": {
            "text/plain": [
              "array([[ 4,  3,  2,  1],\n",
              "       [ 5,  6,  7,  8],\n",
              "       [10,  9, 12, 11]])"
            ]
          },
          "metadata": {
            "tags": []
          },
          "execution_count": 18
        }
      ]
    },
    {
      "cell_type": "code",
      "metadata": {
        "id": "D-lDUXjYLcOQ",
        "colab_type": "code",
        "colab": {}
      },
      "source": [
        ""
      ],
      "execution_count": 0,
      "outputs": []
    },
    {
      "cell_type": "markdown",
      "metadata": {
        "id": "shL5hUigMKVf",
        "colab_type": "text"
      },
      "source": [
        "## 3. index를 반환하는 argsort"
      ]
    },
    {
      "cell_type": "markdown",
      "metadata": {
        "id": "jZTm3IVRMOys",
        "colab_type": "text"
      },
      "source": [
        "정렬된 값을 반환하는 것이 아닌 index를 반환합니다."
      ]
    },
    {
      "cell_type": "code",
      "metadata": {
        "id": "KMIrKnTNMSeP",
        "colab_type": "code",
        "colab": {}
      },
      "source": [
        "arr2d = np.array([[5, 6, 7, 8], \n",
        "                  [4, 3, 2, 1],\n",
        "                  [10, 9, 12, 11]])"
      ],
      "execution_count": 0,
      "outputs": []
    },
    {
      "cell_type": "markdown",
      "metadata": {
        "id": "OSVeVt9MMYf_",
        "colab_type": "text"
      },
      "source": [
        "\n",
        "### 3-1. 열 정렬 (왼쪽에서 오른쪽으로)"
      ]
    },
    {
      "cell_type": "code",
      "metadata": {
        "id": "a0iDxGE3MFfF",
        "colab_type": "code",
        "outputId": "cfb10837-a74e-4327-f776-86eebf4a95a3",
        "colab": {
          "base_uri": "https://localhost:8080/",
          "height": 71
        }
      },
      "source": [
        "# 코드를 입력해 주세요\n"
      ],
      "execution_count": 0,
      "outputs": [
        {
          "output_type": "execute_result",
          "data": {
            "text/plain": [
              "array([[0, 1, 2, 3],\n",
              "       [3, 2, 1, 0],\n",
              "       [1, 0, 3, 2]])"
            ]
          },
          "metadata": {
            "tags": []
          },
          "execution_count": 20
        }
      ]
    },
    {
      "cell_type": "markdown",
      "metadata": {
        "id": "ae1f3EujMH-X",
        "colab_type": "text"
      },
      "source": [
        "### 3-2. 행 정렬"
      ]
    },
    {
      "cell_type": "code",
      "metadata": {
        "id": "usl8PioHMp4A",
        "colab_type": "code",
        "outputId": "bbee8b6d-075b-4934-a6d0-8a5fa2c1521c",
        "colab": {
          "base_uri": "https://localhost:8080/",
          "height": 71
        }
      },
      "source": [
        "arr2d"
      ],
      "execution_count": 0,
      "outputs": [
        {
          "output_type": "execute_result",
          "data": {
            "text/plain": [
              "array([[ 5,  6,  7,  8],\n",
              "       [ 4,  3,  2,  1],\n",
              "       [10,  9, 12, 11]])"
            ]
          },
          "metadata": {
            "tags": []
          },
          "execution_count": 21
        }
      ]
    },
    {
      "cell_type": "code",
      "metadata": {
        "id": "stPz_OloMsV3",
        "colab_type": "code",
        "outputId": "6d877cdf-949e-4893-d6bc-4d513bf2f600",
        "colab": {
          "base_uri": "https://localhost:8080/",
          "height": 71
        }
      },
      "source": [
        "# 코드를 입력해 주세요\n"
      ],
      "execution_count": 0,
      "outputs": [
        {
          "output_type": "execute_result",
          "data": {
            "text/plain": [
              "array([[ 4,  3,  2,  1],\n",
              "       [ 5,  6,  7,  8],\n",
              "       [10,  9, 12, 11]])"
            ]
          },
          "metadata": {
            "tags": []
          },
          "execution_count": 22
        }
      ]
    },
    {
      "cell_type": "code",
      "metadata": {
        "id": "PzfQlskGMkxG",
        "colab_type": "code",
        "outputId": "2b377947-0047-4325-838b-5b73b2767074",
        "colab": {
          "base_uri": "https://localhost:8080/",
          "height": 71
        }
      },
      "source": [
        "# 코드를 입력해 주세요\n"
      ],
      "execution_count": 0,
      "outputs": [
        {
          "output_type": "execute_result",
          "data": {
            "text/plain": [
              "array([[1, 1, 1, 1],\n",
              "       [0, 0, 0, 0],\n",
              "       [2, 2, 2, 2]])"
            ]
          },
          "metadata": {
            "tags": []
          },
          "execution_count": 23
        }
      ]
    }
  ]
}