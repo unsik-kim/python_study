{
 "cells": [
  {
   "cell_type": "code",
   "execution_count": 1,
   "metadata": {},
   "outputs": [
    {
     "name": "stdout",
     "output_type": "stream",
     "text": [
      "값 :  [1 2 3]  차원 :  1\n"
     ]
    }
   ],
   "source": [
    "# 1 차원\n",
    "a = np.array([1, 2 ,3])\n",
    "print(\"값 : \", a, \" 차원 : \", a.ndim)"
   ]
  },
  {
   "cell_type": "code",
   "execution_count": 28,
   "metadata": {},
   "outputs": [
    {
     "name": "stdout",
     "output_type": "stream",
     "text": [
      "값 :  [[1 2 3]\n",
      " [4 5 6]]  차원 :  2\n"
     ]
    }
   ],
   "source": [
    "# 2 차원\n",
    "a = np.array([[1,2,3],[4,5,6]])\n",
    "print(\"값 : \", a, \" 차원 : \", a.ndim)"
   ]
  },
  {
   "cell_type": "code",
   "execution_count": 32,
   "metadata": {},
   "outputs": [
    {
     "data": {
      "text/plain": [
       "array([1, 2, 3, 4, 5, 6])"
      ]
     },
     "execution_count": 32,
     "metadata": {},
     "output_type": "execute_result"
    }
   ],
   "source": [
    "a.flatten()"
   ]
  },
  {
   "cell_type": "code",
   "execution_count": 8,
   "metadata": {},
   "outputs": [
    {
     "name": "stdout",
     "output_type": "stream",
     "text": [
      "[1. 1. 1.] <class 'numpy.ndarray'>\n"
     ]
    }
   ],
   "source": [
    "a3 = np.ones(3)\n",
    "print(a3, type(a3))"
   ]
  },
  {
   "cell_type": "code",
   "execution_count": 13,
   "metadata": {},
   "outputs": [
    {
     "name": "stdout",
     "output_type": "stream",
     "text": [
      "[[1. 1. 1. 1.]\n",
      " [1. 1. 1. 1.]\n",
      " [1. 1. 1. 1.]] <class 'numpy.ndarray'>\n"
     ]
    }
   ],
   "source": [
    "a31 = np.ones((3,4))\n",
    "print(a31, type(a31))"
   ]
  },
  {
   "cell_type": "code",
   "execution_count": 15,
   "metadata": {},
   "outputs": [
    {
     "name": "stdout",
     "output_type": "stream",
     "text": [
      "[0. 0. 0.] <class 'numpy.ndarray'>\n"
     ]
    }
   ],
   "source": [
    "a4 = np.zeros(3)\n",
    "print(a4, type(a4))"
   ]
  },
  {
   "cell_type": "code",
   "execution_count": 16,
   "metadata": {},
   "outputs": [
    {
     "name": "stdout",
     "output_type": "stream",
     "text": [
      "[[5, 9, 13], [17, 21, 25]]\n"
     ]
    }
   ],
   "source": [
    "loop_ex = [[1,2,3],[4,5,6]]\n",
    "\n",
    "result = []\n",
    "\n",
    "for i in loop_ex:\n",
    "    a = []\n",
    "    for j in i:\n",
    "        a.append((j*4)+1)\n",
    "    result.append(a)\n",
    "\n",
    "print(result)"
   ]
  },
  {
   "cell_type": "code",
   "execution_count": 21,
   "metadata": {},
   "outputs": [],
   "source": [
    "a = np.ones(3) * np.zeros(3)"
   ]
  },
  {
   "cell_type": "code",
   "execution_count": 50,
   "metadata": {},
   "outputs": [],
   "source": [
    "A = list(np.random.choice(10, 100000000))\n",
    "B = list(np.random.choice(10, 100000000))\n",
    "\n",
    "# A = [1, 2, 3, 4, 5]\n",
    "# B = [2, 4, 2, 1, 4]\n",
    "C = []\n",
    "for i in range(len(A)):\n",
    "    if A[i] > B[i]:\n",
    "        C.append('A')\n",
    "    else :\n",
    "        C.append('B')"
   ]
  },
  {
   "cell_type": "code",
   "execution_count": 3,
   "metadata": {},
   "outputs": [],
   "source": [
    "A = np.random.choice(10, 100000000)\n",
    "B = np.random.choice(10, 100000000)\n",
    "\n",
    "R = np.where(A>B, 'A', np.where(A==B, 'C', 'B'))"
   ]
  },
  {
   "cell_type": "code",
   "execution_count": 4,
   "metadata": {},
   "outputs": [
    {
     "data": {
      "text/plain": [
       "array(['B', 'C', 'B', ..., 'B', 'A', 'C'], dtype='<U1')"
      ]
     },
     "execution_count": 4,
     "metadata": {},
     "output_type": "execute_result"
    }
   ],
   "source": [
    "R"
   ]
  },
  {
   "cell_type": "code",
   "execution_count": 8,
   "metadata": {},
   "outputs": [
    {
     "name": "stdout",
     "output_type": "stream",
     "text": [
      "45002268 45000954 9996778\n",
      "100000000\n"
     ]
    }
   ],
   "source": [
    "ac = 0\n",
    "bc = 0\n",
    "cc = 0\n",
    "\n",
    "for i in R:\n",
    "    if i=='A':\n",
    "        ac += 1\n",
    "    elif i=='B':\n",
    "        bc += 1\n",
    "    else:\n",
    "        cc += 1\n",
    "\n",
    "print(ac, bc, cc)\n",
    "print(ac+bc+cc)"
   ]
  },
  {
   "cell_type": "code",
   "execution_count": 9,
   "metadata": {},
   "outputs": [
    {
     "name": "stdout",
     "output_type": "stream",
     "text": [
      "45002268 45000954 9996778\n"
     ]
    }
   ],
   "source": [
    "print((R=='A').sum(), (R=='B').sum(), (R=='C').sum())"
   ]
  },
  {
   "cell_type": "code",
   "execution_count": 14,
   "metadata": {},
   "outputs": [
    {
     "name": "stdout",
     "output_type": "stream",
     "text": [
      "[('A', 45002268), ('B', 45000954), ('C', 9996778)]\n"
     ]
    }
   ],
   "source": [
    "real_result = []\n",
    "for i in np.unique(R):\n",
    "    tmp = (i, (R==i).sum())\n",
    "    real_result.append(tmp)\n",
    "print(real_result)"
   ]
  },
  {
   "cell_type": "code",
   "execution_count": null,
   "metadata": {},
   "outputs": [],
   "source": []
  }
 ],
 "metadata": {
  "kernelspec": {
   "display_name": "Python 3",
   "language": "python",
   "name": "python3"
  },
  "language_info": {
   "codemirror_mode": {
    "name": "ipython",
    "version": 3
   },
   "file_extension": ".py",
   "mimetype": "text/x-python",
   "name": "python",
   "nbconvert_exporter": "python",
   "pygments_lexer": "ipython3",
   "version": "3.8.3"
  }
 },
 "nbformat": 4,
 "nbformat_minor": 4
}
